{
 "cells": [
  {
   "cell_type": "code",
   "execution_count": 6,
   "metadata": {},
   "outputs": [],
   "source": [
    "import csv\n",
    "import sys\n",
    "import gzip\n",
    "import pandas as pd\n",
    "# setting path\n",
    "sys.path.append('../../DeepBind')\n",
    "from utils import datasets"
   ]
  },
  {
   "cell_type": "code",
   "execution_count": 8,
   "metadata": {},
   "outputs": [
    {
     "name": "stderr",
     "output_type": "stream",
     "text": [
      "/tmp/ipykernel_14208/175962402.py:28: FutureWarning: The frame.append method is deprecated and will be removed from pandas in a future version. Use pandas.concat instead.\n",
      "  df = df.append(pd.DataFrame({'train data size':[len(train_dataset)], 'test data size':[len(test_dataset)]}, index=[name]))\n",
      "/tmp/ipykernel_14208/175962402.py:28: FutureWarning: The frame.append method is deprecated and will be removed from pandas in a future version. Use pandas.concat instead.\n",
      "  df = df.append(pd.DataFrame({'train data size':[len(train_dataset)], 'test data size':[len(test_dataset)]}, index=[name]))\n",
      "/tmp/ipykernel_14208/175962402.py:28: FutureWarning: The frame.append method is deprecated and will be removed from pandas in a future version. Use pandas.concat instead.\n",
      "  df = df.append(pd.DataFrame({'train data size':[len(train_dataset)], 'test data size':[len(test_dataset)]}, index=[name]))\n",
      "/tmp/ipykernel_14208/175962402.py:28: FutureWarning: The frame.append method is deprecated and will be removed from pandas in a future version. Use pandas.concat instead.\n",
      "  df = df.append(pd.DataFrame({'train data size':[len(train_dataset)], 'test data size':[len(test_dataset)]}, index=[name]))\n",
      "/tmp/ipykernel_14208/175962402.py:28: FutureWarning: The frame.append method is deprecated and will be removed from pandas in a future version. Use pandas.concat instead.\n",
      "  df = df.append(pd.DataFrame({'train data size':[len(train_dataset)], 'test data size':[len(test_dataset)]}, index=[name]))\n",
      "/tmp/ipykernel_14208/175962402.py:28: FutureWarning: The frame.append method is deprecated and will be removed from pandas in a future version. Use pandas.concat instead.\n",
      "  df = df.append(pd.DataFrame({'train data size':[len(train_dataset)], 'test data size':[len(test_dataset)]}, index=[name]))\n",
      "/tmp/ipykernel_14208/175962402.py:28: FutureWarning: The frame.append method is deprecated and will be removed from pandas in a future version. Use pandas.concat instead.\n",
      "  df = df.append(pd.DataFrame({'train data size':[len(train_dataset)], 'test data size':[len(test_dataset)]}, index=[name]))\n",
      "/tmp/ipykernel_14208/175962402.py:28: FutureWarning: The frame.append method is deprecated and will be removed from pandas in a future version. Use pandas.concat instead.\n",
      "  df = df.append(pd.DataFrame({'train data size':[len(train_dataset)], 'test data size':[len(test_dataset)]}, index=[name]))\n",
      "/tmp/ipykernel_14208/175962402.py:28: FutureWarning: The frame.append method is deprecated and will be removed from pandas in a future version. Use pandas.concat instead.\n",
      "  df = df.append(pd.DataFrame({'train data size':[len(train_dataset)], 'test data size':[len(test_dataset)]}, index=[name]))\n",
      "/tmp/ipykernel_14208/175962402.py:28: FutureWarning: The frame.append method is deprecated and will be removed from pandas in a future version. Use pandas.concat instead.\n",
      "  df = df.append(pd.DataFrame({'train data size':[len(train_dataset)], 'test data size':[len(test_dataset)]}, index=[name]))\n"
     ]
    }
   ],
   "source": [
    "path = './encode/'\n",
    "all_dataset_names = datasets(path)\n",
    "df = pd.DataFrame()\n",
    "\n",
    "for data_idx in range(len(all_dataset_names)):\n",
    "    dataset_name = all_dataset_names[data_idx]\n",
    "\n",
    "    train_dataset_path = dataset_name[0]\n",
    "    test_dataset_path = dataset_name[1]\n",
    "    name = train_dataset_path.split(path)[1].split(\"_AC\")[0]\n",
    "\n",
    "    train_dataset = []\n",
    "    test_dataset = []\n",
    "    \n",
    "\n",
    "    with gzip.open(train_dataset_path, 'rt') as data:\n",
    "        next(data)\n",
    "        reader = csv.reader(data,delimiter='\\t')\n",
    "        for row in reader:\n",
    "                    train_dataset.append(row)\n",
    "\n",
    "    with gzip.open(test_dataset_path, 'rt') as data:\n",
    "        next(data)\n",
    "        reader = csv.reader(data,delimiter='\\t')\n",
    "        for row in reader:\n",
    "                    test_dataset.append(row)\n",
    "\n",
    "    df = df.append(pd.DataFrame({'train data size':[len(train_dataset)], 'test data size':[len(test_dataset)]}, index=[name]))\n",
    "\n",
    "df.to_csv('./data_size.csv')"
   ]
  },
  {
   "cell_type": "code",
   "execution_count": null,
   "metadata": {},
   "outputs": [],
   "source": []
  }
 ],
 "metadata": {
  "interpreter": {
   "hash": "84c63b404c7ee130c9845246a39403d500621500816a8f9744527cdc65d245ba"
  },
  "kernelspec": {
   "display_name": "Python 3.8.12 ('DeepBind': conda)",
   "language": "python",
   "name": "python3"
  },
  "language_info": {
   "codemirror_mode": {
    "name": "ipython",
    "version": 3
   },
   "file_extension": ".py",
   "mimetype": "text/x-python",
   "name": "python",
   "nbconvert_exporter": "python",
   "pygments_lexer": "ipython3",
   "version": "3.8.12"
  },
  "orig_nbformat": 4
 },
 "nbformat": 4,
 "nbformat_minor": 2
}
