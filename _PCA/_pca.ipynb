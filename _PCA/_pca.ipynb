{
 "cells": [
  {
   "cell_type": "code",
   "execution_count": 1,
   "metadata": {},
   "outputs": [],
   "source": [
    "import torch\n",
    "import torch.nn as nn\n",
    "import torch.nn.functional as F"
   ]
  },
  {
   "cell_type": "code",
   "execution_count": 2,
   "metadata": {},
   "outputs": [],
   "source": [
    "# {'ARID3A' : 0, 'CTCFL' : 1, 'ELK1' : 2, 'FOXA1' : 3, 'GABPA' : 4, 'MYC' : 5, 'REST' : 6, 'SP1' : 7, 'USF1' : 8, 'ZBTB7A' : 9}\n",
    "TF_name = 'ZBTB7A'\n",
    "path = '../Models/'+TF_name+'/reproduction/best_model.pth'"
   ]
  },
  {
   "cell_type": "code",
   "execution_count": 3,
   "metadata": {},
   "outputs": [],
   "source": [
    "class ConvNet_Base(nn.Module):\n",
    "    def __init__(self,nummotif,motiflen,poolType,mode,learning_rate,dropprob,device):\n",
    "        super(ConvNet_Base, self).__init__()\n",
    "        self.device = device\n",
    "        self.poolType=poolType\n",
    "        self.mode=mode\n",
    "        self.learning_rate=learning_rate\n",
    "        self.dropprob=dropprob\n",
    "        # for conv1\n",
    "        self.wConv1=torch.randn(nummotif,4,motiflen).to(device)\n",
    "        torch.nn.init.xavier_uniform_(self.wConv1)\n",
    "        self.wConv1.requires_grad=True\n",
    "        self.wRect1=torch.randn(nummotif).to(device)\n",
    "        torch.nn.init.normal_(self.wRect1)\n",
    "        self.wRect1=-self.wRect1\n",
    "        self.wRect1.requires_grad=True\n",
    "        # for conv2\n",
    "        self.wConv2=torch.randn(nummotif,nummotif,motiflen).to(device)\n",
    "        torch.nn.init.xavier_uniform_(self.wConv2)\n",
    "        self.wConv2.requires_grad=True\n",
    "        self.wRect2=torch.randn(nummotif).to(device)\n",
    "        torch.nn.init.normal_(self.wRect1)\n",
    "        self.wRect2=-self.wRect2\n",
    "        self.wRect2.requires_grad=True\n",
    "\n",
    "    def forward_pass(self,x,mask=None,use_mask=False):\n",
    "        # conv1\n",
    "        conv1 = F.conv1d(x, self.wConv1, bias=self.wRect1, stride=1, padding=0)\n",
    "        rect1 = conv1.clamp(min=0)\n",
    "        # conv2\n",
    "        conv2 = F.conv1d(rect1, self.wConv2, bias=self.wRect2, stride=1, padding=0)\n",
    "        rect2 = conv2.clamp(min=0)\n",
    "        maxPool, _ = torch.max(rect2, dim=2)\n",
    "        if self.poolType=='maxavg':\n",
    "            avgPool = torch.mean(rect2, dim=2)                     \n",
    "            pool = torch.cat((maxPool, avgPool), 1)\n",
    "        else:\n",
    "            pool = maxPool\n",
    "        return pool\n",
    "       \n",
    "    def forward(self, x):\n",
    "        out =self.forward_pass(x)\n",
    "        return out"
   ]
  },
  {
   "cell_type": "code",
   "execution_count": 4,
   "metadata": {},
   "outputs": [],
   "source": [
    "state_dict = torch.load(path)"
   ]
  },
  {
   "cell_type": "code",
   "execution_count": 5,
   "metadata": {},
   "outputs": [
    {
     "name": "stdout",
     "output_type": "stream",
     "text": [
      "dict_keys(['conv1', 'rect1', 'conv2', 'rect2', 'wHidden', 'wHiddenBias', 'wNeu', 'wNeuBias'])\n"
     ]
    }
   ],
   "source": [
    "print(state_dict.keys())"
   ]
  },
  {
   "cell_type": "code",
   "execution_count": 6,
   "metadata": {},
   "outputs": [],
   "source": [
    "nummotif = 16\n",
    "motif_len = 24\n",
    "mode = 'test'\n",
    "device = torch.device('cuda:0' if torch.cuda.is_available() else 'cpu')\n",
    "\n",
    "dummy_pool = 'max'\n",
    "dummy_lr = '0.05'\n",
    "dummy_dropprob = 1.0"
   ]
  },
  {
   "cell_type": "code",
   "execution_count": 7,
   "metadata": {},
   "outputs": [],
   "source": [
    "model = ConvNet_Base(nummotif,motif_len,dummy_pool,mode,dummy_lr,dummy_dropprob,device).to(device)"
   ]
  },
  {
   "cell_type": "code",
   "execution_count": 8,
   "metadata": {},
   "outputs": [],
   "source": [
    "model.wConv1 = state_dict['conv1']\n",
    "model.wRect1 = state_dict['rect1']\n",
    "model.wConv2 = state_dict['conv2']\n",
    "model.wRect2 = state_dict['rect2']"
   ]
  },
  {
   "cell_type": "code",
   "execution_count": 9,
   "metadata": {},
   "outputs": [],
   "source": [
    "import os\n",
    "import csv\n",
    "import gzip\n",
    "import math\n",
    "import torch\n",
    "import random\n",
    "import numpy as np\n",
    "from torch.utils.data import Dataset, DataLoader\n",
    "\n",
    "DNAbases='ACGT' # DNA bases\n",
    "\n",
    "def datasets(file_path):\n",
    "    '''\n",
    "    Input : path to the datasets\n",
    "\n",
    "    Output : list of dataset names \n",
    "\n",
    "        dataset_names[i][0] for list of AC.seq.gz datasets\n",
    "\n",
    "        dataset_names[i][1] for list of B.seq.gz datasets\n",
    "    '''\n",
    "    path = file_path\n",
    "    files = os.listdir(path)\n",
    "\n",
    "    train = []\n",
    "    test = []\n",
    "    dataset_names = []\n",
    "\n",
    "    for file in files:\n",
    "        if file.endswith(\"AC.seq.gz\"):\n",
    "            train.append(path+file)\n",
    "        elif file.endswith(\"B.seq.gz\"):\n",
    "            test.append(path+file)\n",
    "\n",
    "    train.sort()\n",
    "    test.sort()\n",
    "\n",
    "    if(len(train) != len(test)):\n",
    "        raise Exception(\"Dataset Corrputed. Please Download The Dataset Again\")\n",
    "\n",
    "    for i in range(len(train)):\n",
    "        dataset_names.extend([[train[i], test[i]]])\n",
    "\n",
    "    return dataset_names\n",
    "def seqtopad(seq,motif_len):\n",
    "    rows=len(seq)+2*motif_len-2\n",
    "    S=np.empty([rows,4])\n",
    "    base= DNAbases \n",
    "    for i in range(rows):\n",
    "        for j in range(4):\n",
    "            if i-motif_len+1<len(seq) and seq[i-motif_len+1]=='N' or i<motif_len-1 or i>len(seq)+motif_len-2:\n",
    "                S[i,j]=np.float32(0.25)\n",
    "            elif seq[i-motif_len+1]==base[j]:\n",
    "                S[i,j]=np.float32(1)\n",
    "            else:\n",
    "                S[i,j]=np.float32(0)\n",
    "    return np.transpose(S)\n",
    "\n",
    "def dinuc_shuffling(seq):\n",
    "    b=[seq[i:i+2] for i in range(0, len(seq), 2)]\n",
    "    random.shuffle(b)\n",
    "    d=''.join([str(x) for x in b])\n",
    "    return d\n",
    "\n",
    "def complement(seq):\n",
    "    complement = {'A': 'T', 'C': 'G', 'G': 'C', 'T': 'A', 'N': 'N'}\n",
    "    complement_seq = [complement[nt] for nt in seq] # nt stands for nucleotide\n",
    "    return complement_seq\n",
    "  \n",
    "def reverse_complement(seq):\n",
    "    seq = list(seq)\n",
    "    seq.reverse()\n",
    "    return ''.join(complement(seq))\n",
    "\n",
    "class Chip_test():\n",
    "    def __init__(self,filename,motif_len):\n",
    "        self.file = filename\n",
    "        self.motif_len = motif_len\n",
    "            \n",
    "    def openFile(self):\n",
    "        test_dataset=[]\n",
    "        with gzip.open(self.file, 'rt') as data:\n",
    "            next(data)\n",
    "            reader = csv.reader(data,delimiter='\\t')\n",
    "\n",
    "            for row in reader:\n",
    "                test_dataset.append([seqtopad(row[2],self.motif_len),[int(row[3])]])\n",
    "       \n",
    "        return test_dataset\n",
    "\n",
    "class chipseq_dataset(Dataset):\n",
    "    def __init__(self,xy=None):\n",
    "        self.x_data=np.asarray([el[0] for el in xy],dtype=np.float32)\n",
    "        self.y_data =np.asarray([el[1] for el in xy ],dtype=np.float32)\n",
    "        self.x_data = torch.from_numpy(self.x_data)\n",
    "        self.y_data = torch.from_numpy(self.y_data)\n",
    "        self.len=len(self.x_data)\n",
    "      \n",
    "    def __getitem__(self, index):\n",
    "        return self.x_data[index], self.y_data[index]\n",
    "\n",
    "    def __len__(self):\n",
    "        return self.len\n",
    "\n",
    "def test_dataset_loader(filepath, motif_len):\n",
    "    chipseq_test=Chip_test(filepath, motif_len)\n",
    "    test_data=chipseq_test.openFile()\n",
    "\n",
    "    test_dataset=chipseq_dataset(test_data)\n",
    "    batchSize=test_dataset.__len__() # at once\n",
    "\n",
    "    test_loader = DataLoader(dataset=test_dataset,batch_size=batchSize,shuffle=False)\n",
    "\n",
    "    return test_loader"
   ]
  },
  {
   "cell_type": "code",
   "execution_count": 10,
   "metadata": {},
   "outputs": [],
   "source": [
    "path = '../data/encode/'\n",
    "all_dataset_names = datasets(path)\n",
    "TF2idx = {'ARID3A' : 0, 'CTCFL' : 1, 'ELK1' : 2, 'FOXA1' : 3, 'GABPA' : 4, 'MYC' : 5, 'REST' : 6, 'SP1' : 7, 'USF1' : 8, 'ZBTB7A' : 9}\n",
    "TFidx = TF2idx[TF_name]\n",
    "dataset_name = all_dataset_names[TFidx]\n",
    "train_dataset_path = dataset_name[0]\n",
    "test_dataset_path = dataset_name[1]"
   ]
  },
  {
   "cell_type": "code",
   "execution_count": 11,
   "metadata": {},
   "outputs": [
    {
     "name": "stdout",
     "output_type": "stream",
     "text": [
      "../data/encode/ZBTB7A_HepG2_ZBTB7A_(SC-34508)_HudsonAlpha_AC.seq.gz\n",
      "../data/encode/ZBTB7A_HepG2_ZBTB7A_(SC-34508)_HudsonAlpha_B.seq.gz\n"
     ]
    }
   ],
   "source": [
    "print(train_dataset_path)\n",
    "print(test_dataset_path)"
   ]
  },
  {
   "cell_type": "code",
   "execution_count": 12,
   "metadata": {},
   "outputs": [],
   "source": [
    "train_loader = test_dataset_loader(train_dataset_path, motif_len)\n",
    "test_loader = test_dataset_loader(test_dataset_path, motif_len)"
   ]
  },
  {
   "cell_type": "code",
   "execution_count": 13,
   "metadata": {},
   "outputs": [],
   "source": [
    "train = None\n",
    "test = None\n",
    "train_target = None\n",
    "test_target = None\n",
    "\n",
    "for idx, (data, target) in enumerate(train_loader):\n",
    "    data = data.to(device)\n",
    "    target = target.to(device)\n",
    "\n",
    "    # Forward pass\n",
    "    train = model.forward(data)\n",
    "    train_target = target\n",
    "\n",
    "for idx, (data, target) in enumerate(test_loader):\n",
    "    data = data.to(device)\n",
    "    target = target.to(device)\n",
    "\n",
    "    # Forward pass\n",
    "    test = model.forward(data)\n",
    "    test_target = target"
   ]
  },
  {
   "cell_type": "code",
   "execution_count": 14,
   "metadata": {},
   "outputs": [
    {
     "name": "stdout",
     "output_type": "stream",
     "text": [
      "torch.Size([8689, 16])\n",
      "torch.Size([1000, 16])\n"
     ]
    }
   ],
   "source": [
    "print(train.shape)\n",
    "print(test.shape)"
   ]
  },
  {
   "cell_type": "code",
   "execution_count": 15,
   "metadata": {},
   "outputs": [],
   "source": [
    "train = train.cpu().detach().numpy()\n",
    "test = test.cpu().detach().numpy()\n",
    "train_target = train_target.cpu().detach().numpy()\n",
    "test_target = test_target.cpu().detach().numpy()"
   ]
  },
  {
   "cell_type": "code",
   "execution_count": 16,
   "metadata": {},
   "outputs": [
    {
     "name": "stdout",
     "output_type": "stream",
     "text": [
      "(8689, 16)\n",
      "(1000, 16)\n",
      "(8689, 1)\n",
      "(1000, 1)\n"
     ]
    }
   ],
   "source": [
    "print(train.shape)\n",
    "print(test.shape)\n",
    "print(train_target.shape)\n",
    "print(test_target.shape)"
   ]
  },
  {
   "cell_type": "code",
   "execution_count": 17,
   "metadata": {},
   "outputs": [],
   "source": [
    "from sklearn.preprocessing import StandardScaler\n",
    " \n",
    "scaler = StandardScaler()    \n",
    "scaler.fit(train)\n",
    "train_feature_scaled = scaler.transform(train)\n",
    "test_feature_scaled = scaler.transform(test)\n",
    " \n",
    " \n",
    "from sklearn.decomposition import PCA\n",
    "pca = PCA(n_components=2)\n",
    "pca.fit(train_feature_scaled)\n",
    " \n",
    "train_pca = pca.transform(train_feature_scaled)\n",
    "test_pca = pca.transform(test_feature_scaled)"
   ]
  },
  {
   "cell_type": "code",
   "execution_count": 18,
   "metadata": {},
   "outputs": [
    {
     "name": "stdout",
     "output_type": "stream",
     "text": [
      "(8689, 2)\n",
      "(1000, 2)\n"
     ]
    }
   ],
   "source": [
    "print(train_pca.shape)\n",
    "print(test_pca.shape)"
   ]
  },
  {
   "cell_type": "code",
   "execution_count": 19,
   "metadata": {},
   "outputs": [],
   "source": [
    "import pandas as pd\n",
    "\n",
    "cols = ['x', 'y']\n",
    "train_pca_df = pd.DataFrame(train_pca, columns=cols)\n",
    "test_pca_df = pd.DataFrame(test_pca, columns=cols)"
   ]
  },
  {
   "cell_type": "code",
   "execution_count": 20,
   "metadata": {},
   "outputs": [],
   "source": [
    "train_target_df = pd.DataFrame(train_target, columns=['label'])\n",
    "test_target_df = pd.DataFrame(test_target, columns=['label'])"
   ]
  },
  {
   "cell_type": "code",
   "execution_count": 21,
   "metadata": {},
   "outputs": [],
   "source": [
    "train_pca_df = train_pca_df.join(train_target_df)\n",
    "test_pca_df = test_pca_df.join(test_target_df)"
   ]
  },
  {
   "cell_type": "code",
   "execution_count": 22,
   "metadata": {},
   "outputs": [
    {
     "name": "stdout",
     "output_type": "stream",
     "text": [
      "             x         y  label\n",
      "0     0.378046 -3.147005    1.0\n",
      "1     0.072292 -2.219341    1.0\n",
      "2    -2.587360  2.938667    1.0\n",
      "3    -1.365136 -2.200964    1.0\n",
      "4    -2.204165  0.617319    1.0\n",
      "...        ...       ...    ...\n",
      "8684 -0.529344  0.203229    1.0\n",
      "8685  3.382761 -0.502700    1.0\n",
      "8686  1.484967  2.091376    1.0\n",
      "8687 -1.183137  0.903625    1.0\n",
      "8688 -0.179128 -2.131314    1.0\n",
      "\n",
      "[8689 rows x 3 columns]\n",
      "            x         y  label\n",
      "0   -1.555383 -0.756564    1.0\n",
      "1   -1.130474 -1.523565    1.0\n",
      "2   -0.560544 -0.687550    1.0\n",
      "3    1.723111  1.780331    1.0\n",
      "4    0.838065  1.989448    1.0\n",
      "..        ...       ...    ...\n",
      "995 -0.243293  2.788700    0.0\n",
      "996  1.431694 -0.123614    0.0\n",
      "997 -0.226022  0.124158    0.0\n",
      "998 -1.502564 -1.423851    0.0\n",
      "999 -2.746308  1.413078    0.0\n",
      "\n",
      "[1000 rows x 3 columns]\n"
     ]
    }
   ],
   "source": [
    "print(train_pca_df)\n",
    "print(test_pca_df)"
   ]
  },
  {
   "cell_type": "code",
   "execution_count": 23,
   "metadata": {},
   "outputs": [],
   "source": [
    "test_pca_df_true = test_pca_df[test_pca_df['label'] == 1]\n",
    "test_pca_df_false = test_pca_df[test_pca_df['label'] != 1]"
   ]
  },
  {
   "cell_type": "code",
   "execution_count": 24,
   "metadata": {},
   "outputs": [],
   "source": [
    "import matplotlib.pyplot as plt"
   ]
  },
  {
   "cell_type": "code",
   "execution_count": 25,
   "metadata": {},
   "outputs": [
    {
     "data": {
      "image/png": "[encoded data removed]",
      "text/plain": [
       "<Figure size 720x720 with 1 Axes>"
      ]
     },
     "metadata": {
      "needs_background": "light"
     },
     "output_type": "display_data"
    }
   ],
   "source": [
    "plt.figure(figsize=(10,10))\n",
    "plt.xlim(-10, 10)\n",
    "plt.ylim(-10, 10)\n",
    "plt.scatter(train_pca_df['x'], train_pca_df['y'], s=5, color = 'black')\n",
    "plt.scatter(test_pca_df_true['x'], test_pca_df_true['y'], s=5, color = 'blue')\n",
    "plt.scatter(test_pca_df_false['x'], test_pca_df_false['y'], s=5, color = 'red')\n",
    "plt.savefig('./'+TF_name+'.png')"
   ]
  },
  {
   "cell_type": "code",
   "execution_count": null,
   "metadata": {},
   "outputs": [],
   "source": []
  }
 ],
 "metadata": {
  "interpreter": {
   "hash": "84c63b404c7ee130c9845246a39403d500621500816a8f9744527cdc65d245ba"
  },
  "kernelspec": {
   "display_name": "Python 3.8.12 ('DeepBind': conda)",
   "language": "python",
   "name": "python3"
  },
  "language_info": {
   "codemirror_mode": {
    "name": "ipython",
    "version": 3
   },
   "file_extension": ".py",
   "mimetype": "text/x-python",
   "name": "python",
   "nbconvert_exporter": "python",
   "pygments_lexer": "ipython3",
   "version": "3.8.12"
  },
  "orig_nbformat": 4
 },
 "nbformat": 4,
 "nbformat_minor": 2
}
