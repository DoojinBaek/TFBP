{
 "cells": [
  {
   "cell_type": "markdown",
   "metadata": {},
   "source": [
    "Graph Plot"
   ]
  },
  {
   "cell_type": "code",
   "execution_count": 2,
   "metadata": {},
   "outputs": [],
   "source": [
    "import os\n",
    "import pandas as pd\n",
    "import matplotlib.pyplot as plt\n",
    "\n",
    "path = './ARID3A_K562_ARID3A_(sc-8821)_Stanford_ZBTB7A_HepG2_ZBTB7A_(SC-34508)_HudsonAlpha-4_13/'\n",
    "valid_file_list = os.listdir(path+'valid')\n",
    "train_file_list = os.listdir(path+'train')"
   ]
  },
  {
   "cell_type": "code",
   "execution_count": 28,
   "metadata": {},
   "outputs": [],
   "source": [
    "valid_auc_best = []\n",
    "valid_loss_best = []\n",
    "\n",
    "for i in range(len(train_file_list)):\n",
    "    valid_res = []\n",
    "    train_res = []\n",
    "\n",
    "    f = open(path+'valid/'+valid_file_list[i], 'r')\n",
    "    while True:\n",
    "        line = f.readline()\n",
    "        if not line: break\n",
    "        valid_res.append(line)\n",
    "    f.close()\n",
    "    f = open(path+'train/'+train_file_list[i], 'r')\n",
    "    while True:\n",
    "        line = f.readline()\n",
    "        if not line: break\n",
    "        train_res.append(line)\n",
    "    f.close()\n",
    "\n",
    "    valid_auc = []\n",
    "    train_auc = []\n",
    "    valid_loss = []\n",
    "    train_loss = []\n",
    "\n",
    "    for epoch in range(len(valid_res)):\n",
    "        res = valid_res[epoch]\n",
    "        valid_auc.append(float(res.split(':')[0]))\n",
    "        valid_loss.append(float(res.split(':')[1].split('\\n')[0]))\n",
    "        res = train_res[epoch]\n",
    "        train_auc.append(float(res.split(':')[0]))\n",
    "        train_loss.append(float(res.split(':')[1].split('\\n')[0]))\n",
    "    \n",
    "    valid_auc_best.append(max(valid_auc))\n",
    "    valid_loss_best.append(min(valid_loss))\n",
    "    \n",
    "    fig, (ax1, ax2) = plt.subplots(1, 2, figsize=(10, 5))\n",
    "    fig.suptitle(path.split('/')[1])\n",
    "\n",
    "    ax1.set_ylim(0.5, 1.01)\n",
    "    ax1.plot(train_auc, label = 'train auc')\n",
    "    ax1.plot(valid_auc, label = 'validation auc')\n",
    "    ax1.legend()\n",
    "    ax1.set_title('AUC')\n",
    "\n",
    "    ax2.set_ylim(min(min(train_loss), min(valid_loss))-0.1, max(max(train_loss), max(valid_loss)+0.1))\n",
    "    ax2.plot(train_loss, label = 'train loss')\n",
    "    ax2.plot(valid_loss, label = 'validation loss')\n",
    "    ax2.legend()\n",
    "    ax2.set_title('Loss')\n",
    "\n",
    "    if not os.path.exists(path+'graphs'):\n",
    "        os.makedirs(path+'graphs')\n",
    "\n",
    "    fig.savefig(path + 'graphs' + '/' + train_file_list[i].split(\".\")[0] + '.png')\n",
    "\n",
    "    plt.close(fig)"
   ]
  },
  {
   "cell_type": "markdown",
   "metadata": {},
   "source": [
    "Result"
   ]
  },
  {
   "cell_type": "code",
   "execution_count": 29,
   "metadata": {},
   "outputs": [],
   "source": [
    "test_file_list = os.listdir(path+'test')\n",
    "\n",
    "test_auc = []\n",
    "experiment_id = []\n",
    "\n",
    "for i in range(len(test_file_list)):\n",
    "    f = open(path+'test/'+test_file_list[i], 'r')\n",
    "    while True:\n",
    "        line = f.readline()\n",
    "        if not line: break\n",
    "        if 'Test AUC' in line:\n",
    "            test_auc.append(float(line.split(':')[1].split('\\n')[0]))\n",
    "            experiment_id.append(int(test_file_list[i].split('.')[0]))\n",
    "    f.close()\n",
    "\n",
    "df = pd.DataFrame({\n",
    "    'valid loss' : valid_loss_best,\n",
    "    'valid auc' : valid_auc_best, \n",
    "    'test auc' : test_auc\n",
    "})\n",
    "\n",
    "df.to_csv(path+'result.csv')"
   ]
  },
  {
   "cell_type": "code",
   "execution_count": null,
   "metadata": {},
   "outputs": [],
   "source": []
  }
 ],
 "metadata": {
  "interpreter": {
   "hash": "84c63b404c7ee130c9845246a39403d500621500816a8f9744527cdc65d245ba"
  },
  "kernelspec": {
   "display_name": "Python 3.8.12 ('DeepBind': conda)",
   "language": "python",
   "name": "python3"
  },
  "language_info": {
   "codemirror_mode": {
    "name": "ipython",
    "version": 3
   },
   "file_extension": ".py",
   "mimetype": "text/x-python",
   "name": "python",
   "nbconvert_exporter": "python",
   "pygments_lexer": "ipython3",
   "version": "3.8.12"
  },
  "orig_nbformat": 4
 },
 "nbformat": 4,
 "nbformat_minor": 2
}
