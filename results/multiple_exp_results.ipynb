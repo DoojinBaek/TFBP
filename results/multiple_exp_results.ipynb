{
 "cells": [
  {
   "cell_type": "code",
   "execution_count": 224,
   "metadata": {},
   "outputs": [],
   "source": [
    "import os\n",
    "import glob\n",
    "import numpy as np\n",
    "import pandas as pd\n",
    "import pickle\n",
    "import matplotlib.pyplot as plt"
   ]
  },
  {
   "cell_type": "code",
   "execution_count": 225,
   "metadata": {},
   "outputs": [],
   "source": [
    "path = './'\n",
    "num_model = 10\n",
    "num_epochs = 150"
   ]
  },
  {
   "cell_type": "code",
   "execution_count": 226,
   "metadata": {},
   "outputs": [],
   "source": [
    "def process_result(dir):\n",
    "    test_res_path = []\n",
    "    for exp_idx in range(num_model):\n",
    "        for file in glob.glob(dir+'/test/{}.txt'.format(str(exp_idx))):\n",
    "            test_res_path.append(file)\n",
    "\n",
    "    all_test_res = {}\n",
    "\n",
    "    for exp_idx in range(num_model):\n",
    "        f = open(test_res_path[exp_idx], 'r')\n",
    "        data = f.read()\n",
    "        all_test_res[exp_idx] = data\n",
    "        f.close()\n",
    "\n",
    "    train_loss_bce = {}\n",
    "    train_loss_rest = {}\n",
    "    test_acc = {}\n",
    "\n",
    "    for exp_idx in range(num_model):\n",
    "        train_loss_bce[exp_idx] = []\n",
    "        train_loss_rest[exp_idx] = []\n",
    "        test_acc[exp_idx] = []\n",
    "\n",
    "        res = all_test_res[exp_idx].split('\\n')\n",
    "\n",
    "        for line_idx in range(len(res)-1):\n",
    "            train = res[line_idx].split(\"|\")[0]\n",
    "            test = res[line_idx].split(\"|\")[1]\n",
    "            train_loss_bce[exp_idx].append(float(train.split(':')[1].split(\"+\")[0]))\n",
    "            train_loss_rest[exp_idx].append(float(train.split(':')[1].split(\"+\")[1]))\n",
    "            test_acc[exp_idx].append(float(test.split(':')[0]))\n",
    "\n",
    "    train_loss_bce_mean = []\n",
    "    train_loss_rest_mean = []\n",
    "    test_acc_mean = []\n",
    "    test_acc_best = []\n",
    "\n",
    "    for epoch in range(num_epochs):\n",
    "        train_loss_bce_temp_sum = 0\n",
    "        train_loss_rest_temp_sum = 0\n",
    "        test_acc_temp_sum = 0\n",
    "\n",
    "        for exp_idx in range(num_model):\n",
    "            test_acc_best.append(np.max(test_acc[exp_idx]))\n",
    "            train_loss_bce_temp_sum += train_loss_bce[exp_idx][epoch]\n",
    "            train_loss_rest_temp_sum += train_loss_rest[exp_idx][epoch]\n",
    "            test_acc_temp_sum += test_acc[exp_idx][epoch]\n",
    "        \n",
    "        train_loss_bce_mean.append(train_loss_bce_temp_sum/num_model)\n",
    "        train_loss_rest_mean.append(train_loss_rest_temp_sum/num_model)\n",
    "        test_acc_mean.append(test_acc_temp_sum/num_model)\n",
    "\n",
    "    plt.figure(figsize=(20,4))\n",
    "    plt.subplot(1,3,1)\n",
    "    plt.title('train bce loss')\n",
    "    plt.plot(train_loss_bce_mean)\n",
    "    plt.subplot(1,3,2)\n",
    "    plt.title('train regularization loss')\n",
    "    plt.plot(train_loss_rest_mean)\n",
    "    plt.subplot(1,3,3)\n",
    "    plt.title('mean test accuracy')\n",
    "    plt.ylim(0,1)\n",
    "    plt.plot(test_acc_mean)\n",
    "    plt.savefig(dir + '/result.png')\n",
    "    plt.close()\n",
    "\n",
    "    with open(dir+'/test/performance.txt', \"a\") as file:\n",
    "        file.write(\"---\"*35)\n",
    "        file.write('\\n')\n",
    "        file.write('Initial Mean Train Loss : ')\n",
    "        file.write(str(train_loss_bce_mean[0]))\n",
    "        file.write('+')\n",
    "        file.write(str(train_loss_rest_mean[0]))\n",
    "        file.write('\\n')\n",
    "        file.write('Final Mean Train Loss : ')\n",
    "        file.write(str(train_loss_bce_mean[num_epochs-1]))\n",
    "        file.write('+')\n",
    "        file.write(str(train_loss_rest_mean[num_epochs-2]))\n",
    "        file.write('\\n')\n",
    "        file.write('Best of Mean Test Acc : ')\n",
    "        file.write(str(np.max(test_acc_mean)))\n",
    "        file.write('\\n')\n",
    "        file.write('Best of Best Test Acc : ')\n",
    "        file.write(str(np.max(test_acc_best)))\n",
    "        file.write('\\n')\n",
    "        file.write('Mean of Best Test Acc : ')\n",
    "        file.write(str(np.mean(test_acc_best)))\n",
    "        file.write('\\n')\n",
    "        file.write('Std of Best Test Acc : ')\n",
    "        file.write(str(np.std(test_acc_best)))\n",
    "        file.write('\\n')\n",
    "    file.close()\n",
    "\n",
    "    f = open(dir+'/mean_train_bce_loss.pkl', 'wb')\n",
    "    pickle.dump(train_loss_bce_mean, f)\n",
    "    f.close()\n",
    "    f = open(dir+'/mean_train_rest_loss.pkl', 'wb')\n",
    "    pickle.dump(train_loss_rest_mean, f)\n",
    "    f.close()\n",
    "    f = open(dir+'/mean_test_acc.pkl', 'wb')\n",
    "    pickle.dump(test_acc_mean, f)\n",
    "    f = open(dir+'/best_test_accs.pkl', 'wb')\n",
    "    pickle.dump(test_acc_best, f)\n",
    "    f.close()"
   ]
  },
  {
   "cell_type": "code",
   "execution_count": 227,
   "metadata": {},
   "outputs": [],
   "source": [
    "ARID3A_DR = []\n",
    "for file in glob.glob(path+\"ARID3A-multiple_exp_dr*\"):\n",
    "    ARID3A_DR.append(file)\n",
    "\n",
    "ARID3A_reg = []\n",
    "for file in glob.glob(path+\"ARID3A-multiple_exp_reg*\"):\n",
    "    ARID3A_reg.append(file)"
   ]
  },
  {
   "cell_type": "code",
   "execution_count": 228,
   "metadata": {},
   "outputs": [],
   "source": [
    "for dr_dir in ARID3A_DR:\n",
    "    process_result(dr_dir)\n",
    "for reg_dir in ARID3A_reg:\n",
    "    process_result(reg_dir)"
   ]
  },
  {
   "cell_type": "code",
   "execution_count": 229,
   "metadata": {},
   "outputs": [],
   "source": [
    "MYC_DR = []\n",
    "for file in glob.glob(path + \"MYC-multiple_exp_dr*\"):\n",
    "    MYC_DR.append(file)"
   ]
  },
  {
   "cell_type": "code",
   "execution_count": 230,
   "metadata": {},
   "outputs": [],
   "source": [
    "for dr_dir in MYC_DR:\n",
    "    process_result(dr_dir)"
   ]
  },
  {
   "cell_type": "code",
   "execution_count": null,
   "metadata": {},
   "outputs": [],
   "source": []
  }
 ],
 "metadata": {
  "interpreter": {
   "hash": "84c63b404c7ee130c9845246a39403d500621500816a8f9744527cdc65d245ba"
  },
  "kernelspec": {
   "display_name": "Python 3.8.12 ('DeepBind': conda)",
   "language": "python",
   "name": "python3"
  },
  "language_info": {
   "codemirror_mode": {
    "name": "ipython",
    "version": 3
   },
   "file_extension": ".py",
   "mimetype": "text/x-python",
   "name": "python",
   "nbconvert_exporter": "python",
   "pygments_lexer": "ipython3",
   "version": "3.8.12"
  },
  "orig_nbformat": 4
 },
 "nbformat": 4,
 "nbformat_minor": 2
}
