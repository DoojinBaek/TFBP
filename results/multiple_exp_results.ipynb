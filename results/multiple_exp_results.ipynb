{
 "cells": [
  {
   "cell_type": "code",
   "execution_count": 19,
   "metadata": {},
   "outputs": [],
   "source": [
    "import os\n",
    "import glob\n",
    "import numpy as np\n",
    "import pandas as pd\n",
    "import pickle\n",
    "import matplotlib.pyplot as plt"
   ]
  },
  {
   "cell_type": "code",
   "execution_count": 20,
   "metadata": {},
   "outputs": [],
   "source": [
    "path = './'\n",
    "num_model = 10"
   ]
  },
  {
   "cell_type": "code",
   "execution_count": 21,
   "metadata": {},
   "outputs": [],
   "source": [
    "def process_result(dir, num_epochs=150):\n",
    "    test_res_path = []\n",
    "    for exp_idx in range(num_model):\n",
    "        for file in glob.glob(dir+'/test/{}.txt'.format(str(exp_idx))):\n",
    "            test_res_path.append(file)\n",
    "\n",
    "    all_test_res = {}\n",
    "\n",
    "    for exp_idx in range(num_model):\n",
    "        f = open(test_res_path[exp_idx], 'r')\n",
    "        data = f.read()\n",
    "        all_test_res[exp_idx] = data\n",
    "        f.close()\n",
    "\n",
    "    train_loss_bce = {}\n",
    "    train_loss_rest = {}\n",
    "    test_acc = {}\n",
    "\n",
    "    for exp_idx in range(num_model):\n",
    "        train_loss_bce[exp_idx] = []\n",
    "        train_loss_rest[exp_idx] = []\n",
    "        test_acc[exp_idx] = []\n",
    "\n",
    "        res = all_test_res[exp_idx].split('\\n')\n",
    "\n",
    "        for line_idx in range(len(res)-1):\n",
    "            train = res[line_idx].split(\"|\")[0]\n",
    "            test = res[line_idx].split(\"|\")[1]\n",
    "            train_loss_bce[exp_idx].append(float(train.split(':')[1].split(\"+\")[0]))\n",
    "            train_loss_rest[exp_idx].append(float(train.split(':')[1].split(\"+\")[1]))\n",
    "            test_acc[exp_idx].append(float(test.split(':')[0]))\n",
    "\n",
    "    train_loss_bce_mean = []\n",
    "    train_loss_rest_mean = []\n",
    "    test_acc_mean = []\n",
    "    test_acc_best = []\n",
    "\n",
    "    for epoch in range(num_epochs):\n",
    "        train_loss_bce_temp_sum = 0\n",
    "        train_loss_rest_temp_sum = 0\n",
    "        test_acc_temp_sum = 0\n",
    "\n",
    "        for exp_idx in range(num_model):\n",
    "            test_acc_best.append(np.max(test_acc[exp_idx]))\n",
    "            train_loss_bce_temp_sum += train_loss_bce[exp_idx][epoch]\n",
    "            train_loss_rest_temp_sum += train_loss_rest[exp_idx][epoch]\n",
    "            test_acc_temp_sum += test_acc[exp_idx][epoch]\n",
    "        \n",
    "        train_loss_bce_mean.append(train_loss_bce_temp_sum/num_model)\n",
    "        train_loss_rest_mean.append(train_loss_rest_temp_sum/num_model)\n",
    "        test_acc_mean.append(test_acc_temp_sum/num_model)\n",
    "\n",
    "    plt.figure(figsize=(20,4))\n",
    "    plt.subplot(1,3,1)\n",
    "    plt.title('train bce loss')\n",
    "    plt.plot(train_loss_bce_mean)\n",
    "    plt.subplot(1,3,2)\n",
    "    plt.title('train regularization loss')\n",
    "    plt.plot(train_loss_rest_mean)\n",
    "    plt.subplot(1,3,3)\n",
    "    plt.title('mean test accuracy')\n",
    "    plt.ylim(0,1)\n",
    "    plt.plot(test_acc_mean)\n",
    "    plt.savefig(dir + '/result.png')\n",
    "    plt.close()\n",
    "\n",
    "    with open(dir+'/test/performance.txt', \"a\") as file:\n",
    "        file.write(\"---\"*35)\n",
    "        file.write('\\n')\n",
    "        file.write('Initial Mean Train Loss : ')\n",
    "        file.write(str(train_loss_bce_mean[0]))\n",
    "        file.write('+')\n",
    "        file.write(str(train_loss_rest_mean[0]))\n",
    "        file.write('\\n')\n",
    "        file.write('Final Mean Train Loss : ')\n",
    "        file.write(str(train_loss_bce_mean[num_epochs-1]))\n",
    "        file.write('+')\n",
    "        file.write(str(train_loss_rest_mean[num_epochs-2]))\n",
    "        file.write('\\n')\n",
    "        file.write('Best of Mean Test Acc : ')\n",
    "        file.write(str(np.max(test_acc_mean)))\n",
    "        file.write('\\n')\n",
    "        file.write('Best of Best Test Acc : ')\n",
    "        file.write(str(np.max(test_acc_best)))\n",
    "        file.write('\\n')\n",
    "        file.write('Mean of Best Test Acc : ')\n",
    "        file.write(str(np.mean(test_acc_best)))\n",
    "        file.write('\\n')\n",
    "        file.write('Std of Best Test Acc : ')\n",
    "        file.write(str(np.std(test_acc_best)))\n",
    "        file.write('\\n')\n",
    "    file.close()\n",
    "\n",
    "    f = open(dir+'/mean_train_bce_loss.pkl', 'wb')\n",
    "    pickle.dump(train_loss_bce_mean, f)\n",
    "    f.close()\n",
    "    f = open(dir+'/mean_train_rest_loss.pkl', 'wb')\n",
    "    pickle.dump(train_loss_rest_mean, f)\n",
    "    f.close()\n",
    "    f = open(dir+'/mean_test_acc.pkl', 'wb')\n",
    "    pickle.dump(test_acc_mean, f)\n",
    "    f = open(dir+'/best_test_accs.pkl', 'wb')\n",
    "    pickle.dump(test_acc_best, f)\n",
    "    f.close()"
   ]
  },
  {
   "cell_type": "code",
   "execution_count": 22,
   "metadata": {},
   "outputs": [],
   "source": [
    "ZBTB7A_opt = []\n",
    "ZBTB7A_opt_200_epoch = []\n",
    "\n",
    "for file in glob.glob(path+'ZBTB7A-multiple_exp_adam*') + glob.glob(path+'ZBTB7A-multiple_exp_sgd*'):\n",
    "    if '200' in file:\n",
    "        ZBTB7A_opt_200_epoch.append(file)\n",
    "    else:\n",
    "        ZBTB7A_opt.append(file)"
   ]
  },
  {
   "cell_type": "code",
   "execution_count": 7,
   "metadata": {},
   "outputs": [],
   "source": [
    "ARID3A_opt = []\n",
    "ARID3A_opt_200_epoch = []\n",
    "\n",
    "for file in glob.glob(path+'ARID3A-multiple_exp_adam*') + glob.glob(path+'ARID3A-multiple_exp_sgd*'):\n",
    "    if '200' in file:\n",
    "        ARID3A_opt_200_epoch.append(file)\n",
    "    else:\n",
    "        ARID3A_opt.append(file)"
   ]
  },
  {
   "cell_type": "code",
   "execution_count": 8,
   "metadata": {},
   "outputs": [
    {
     "data": {
      "text/plain": [
       "['./ARID3A-multiple_exp_adam_010_200_epoch',\n",
       " './ARID3A-multiple_exp_adam_001_200_epoch',\n",
       " './ARID3A-multiple_exp_adam_005_200_epoch',\n",
       " './ARID3A-multiple_exp_sgd_005_200_epoch',\n",
       " './ARID3A-multiple_exp_sgd_0005_200_epoch',\n",
       " './ARID3A-multiple_exp_sgd_001_200_epoch']"
      ]
     },
     "execution_count": 8,
     "metadata": {},
     "output_type": "execute_result"
    }
   ],
   "source": [
    "ARID3A_opt_200_epoch"
   ]
  },
  {
   "cell_type": "code",
   "execution_count": 9,
   "metadata": {},
   "outputs": [],
   "source": [
    "for file in ARID3A_opt_200_epoch:\n",
    "    process_result(file)"
   ]
  },
  {
   "cell_type": "code",
   "execution_count": 16,
   "metadata": {},
   "outputs": [],
   "source": [
    "ZBTB7A_opt_200_epoch = ZBTB7A_opt_200_epoch[2:]"
   ]
  },
  {
   "cell_type": "code",
   "execution_count": 18,
   "metadata": {},
   "outputs": [],
   "source": [
    "for file in ZBTB7A_opt_200_epoch:\n",
    "    process_result(file)"
   ]
  },
  {
   "cell_type": "code",
   "execution_count": null,
   "metadata": {},
   "outputs": [],
   "source": []
  }
 ],
 "metadata": {
  "interpreter": {
   "hash": "84c63b404c7ee130c9845246a39403d500621500816a8f9744527cdc65d245ba"
  },
  "kernelspec": {
   "display_name": "Python 3.8.12 ('DeepBind': conda)",
   "language": "python",
   "name": "python3"
  },
  "language_info": {
   "codemirror_mode": {
    "name": "ipython",
    "version": 3
   },
   "file_extension": ".py",
   "mimetype": "text/x-python",
   "name": "python",
   "nbconvert_exporter": "python",
   "pygments_lexer": "ipython3",
   "version": "3.8.12"
  },
  "orig_nbformat": 4
 },
 "nbformat": 4,
 "nbformat_minor": 2
}
